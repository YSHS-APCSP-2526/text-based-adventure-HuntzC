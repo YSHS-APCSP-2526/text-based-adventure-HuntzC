{
  "nbformat": 4,
  "nbformat_minor": 0,
  "metadata": {
    "colab": {
      "provenance": [],
      "include_colab_link": true
    },
    "kernelspec": {
      "name": "python3",
      "display_name": "Python 3"
    },
    "language_info": {
      "name": "python"
    }
  },
  "cells": [
    {
      "cell_type": "markdown",
      "metadata": {
        "id": "view-in-github",
        "colab_type": "text"
      },
      "source": [
        "<a href=\"https://colab.research.google.com/github/YSHS-APCSP-2526/text-based-adventure-HuntzC/blob/main/Text_Based_Adventure.ipynb\" target=\"_parent\"><img src=\"https://colab.research.google.com/assets/colab-badge.svg\" alt=\"Open In Colab\"/></a>"
      ]
    },
    {
      "cell_type": "markdown",
      "source": [
        "#Requirements for text based adventure\n",
        "1. You must have at least 2 different \"paths\" that are at least 4 decisions in length\n",
        "2. Include an element of randomness (from the random library)\n",
        "3. Include a list that is core to the text based adventure\n",
        "4. Include a function that is called within your program that includes a while loop, and a parameter that influences a conditional statement in your function.\n",
        "5. Commented Code.\n",
        "6. A [digital flowchart](https://docs.google.com/document/d/1p2k3wL6gzjYWBuWxwEQptmbbOZZNsQrthlC12SNtYgY/edit?usp=sharing) that follows accepted symbols for representing code. You can use google slides or [draw.io](https://www.drawio.com/) for the flowchart."
      ],
      "metadata": {
        "id": "zpSmche7G_jy"
      }
    },
    {
      "cell_type": "code",
      "source": [
        "def respVal2(response,a,b):\n",
        "  while response != a or response != b:\n",
        ""
      ],
      "metadata": {
        "id": "IXLvpP5iEHOM"
      },
      "execution_count": null,
      "outputs": []
    },
    {
      "cell_type": "code",
      "source": [
        "def intro():\n",
        "  print('It is 1:00 AM and you have a major English essay due tommorow.')\n",
        "  print('You are super stressed and tired, and are about out of options, so what do you do?')\n",
        "  print(\"A: Go to bed and don't do the asignment\")\n",
        "  print('B: Rush the asignment just to get it done')\n",
        "  print('C: Use ChatGPT to do the whole asignment')"
      ],
      "metadata": {
        "id": "DToswc3clKpf"
      },
      "execution_count": 4,
      "outputs": []
    },
    {
      "cell_type": "code",
      "source": [
        "def main():\n",
        " intro()\n",
        "main()"
      ],
      "metadata": {
        "id": "LQuG-KfJlMj3",
        "colab": {
          "base_uri": "https://localhost:8080/"
        },
        "outputId": "7f948b69-e891-4555-f06f-4d5d402c9ba1"
      },
      "execution_count": 15,
      "outputs": [
        {
          "output_type": "stream",
          "name": "stdout",
          "text": [
            "It is 1:00 AM and you have a major English essay due tommorow.\n",
            "You are super stressed and tired, and are about out of options, so what do you do?\n",
            "A: Go to bed and don't do the asignment\n",
            "B: Rush the asignment just to get it done\n",
            "C: Use ChatGPT to do the whole asignment\n"
          ]
        }
      ]
    }
  ]
}