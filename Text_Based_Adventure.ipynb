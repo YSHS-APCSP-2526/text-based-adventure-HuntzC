{
  "nbformat": 4,
  "nbformat_minor": 0,
  "metadata": {
    "colab": {
      "provenance": [],
      "include_colab_link": true
    },
    "kernelspec": {
      "name": "python3",
      "display_name": "Python 3"
    },
    "language_info": {
      "name": "python"
    }
  },
  "cells": [
    {
      "cell_type": "markdown",
      "metadata": {
        "id": "view-in-github",
        "colab_type": "text"
      },
      "source": [
        "<a href=\"https://colab.research.google.com/github/YSHS-APCSP-2526/text-based-adventure-HuntzC/blob/main/Text_Based_Adventure.ipynb\" target=\"_parent\"><img src=\"https://colab.research.google.com/assets/colab-badge.svg\" alt=\"Open In Colab\"/></a>"
      ]
    },
    {
      "cell_type": "markdown",
      "source": [
        "#Requirements for text based adventure\n",
        "1. You must have at least 2 different \"paths\" that are at least 4 decisions in length\n",
        "2. Include an element of randomness (from the random library)\n",
        "3. Include a list that is core to the text based adventure\n",
        "4. Include a function that is called within your program that includes a while loop, and a parameter that influences a conditional statement in your function.\n",
        "5. Commented Code.\n",
        "6. A [digital flowchart](https://docs.google.com/document/d/1p2k3wL6gzjYWBuWxwEQptmbbOZZNsQrthlC12SNtYgY/edit?usp=sharing) that follows accepted symbols for representing code. You can use google slides or [draw.io](https://www.drawio.com/) for the flowchart."
      ],
      "metadata": {
        "id": "zpSmche7G_jy"
      }
    },
    {
      "cell_type": "code",
      "source": [
        "import sys\n",
        "import random\n",
        "!pip install pyfiglet\n",
        "from pyfiglet import Figlet\n",
        "import time\n",
        "from IPython.display import clear_output"
      ],
      "metadata": {
        "colab": {
          "base_uri": "https://localhost:8080/"
        },
        "id": "FAXWK78h6mSs",
        "outputId": "fa4b77f4-6f65-42fc-d866-6b1debf825db"
      },
      "execution_count": 1,
      "outputs": [
        {
          "output_type": "stream",
          "name": "stdout",
          "text": [
            "Collecting pyfiglet\n",
            "  Downloading pyfiglet-1.0.4-py3-none-any.whl.metadata (7.4 kB)\n",
            "Downloading pyfiglet-1.0.4-py3-none-any.whl (1.8 MB)\n",
            "\u001b[2K   \u001b[90m━━━━━━━━━━━━━━━━━━━━━━━━━━━━━━━━━━━━━━━━\u001b[0m \u001b[32m1.8/1.8 MB\u001b[0m \u001b[31m17.8 MB/s\u001b[0m eta \u001b[36m0:00:00\u001b[0m\n",
            "\u001b[?25hInstalling collected packages: pyfiglet\n",
            "Successfully installed pyfiglet-1.0.4\n"
          ]
        }
      ]
    },
    {
      "cell_type": "code",
      "source": [
        "def respVal2(response,a,b):\n",
        "  while response.lower() != 'a' or response.lower() != 'b':\n",
        "    print('Not Valid Response')\n",
        "    response=input()\n",
        "  else:\n",
        "    return response.lower()\n",
        "\n",
        "def respVal3(response,a,b,c):\n",
        "  while response.lower() != a or response.lower() != b or response.lower() != c:\n",
        "    return response.lower()"
      ],
      "metadata": {
        "id": "IXLvpP5iEHOM"
      },
      "execution_count": 2,
      "outputs": []
    },
    {
      "cell_type": "code",
      "source": [
        "def intro():\n",
        "  print('It is 1:00 AM and you have a major English essay due tommorow.')\n",
        "  print('You are super stressed and tired, and are about out of options, so what do you do?')\n",
        "  print(\"A: Go to bed and don't do the asignment\")\n",
        "  print('B: Rush the asignment just to get it done')\n",
        "  print('C: Use ChatGPT to do the whole asignment')\n",
        "  op1 = str.lower(input('You Choose '))\n",
        "  print(' ')\n",
        "  if op1 == 'a':\n",
        "    print('Saddly, you end up getting a 0 on the assignment. Your parents are FURIOUS when they find out!!')\n",
        "    print('Unfortunatly, they are SO disapointed they kick you out of the house and you die alone on the streets a faliar.')\n",
        "    print('YOU LOOSE')\n",
        "    sys.exit(\"YOU LOOSE\")\n",
        "    return('looses')\n",
        "  elif op1 == 'b':\n",
        "    print('You huredly rush the asignment, just getting it done beore school starts!')\n",
        "    print('You end up getting a C on the assignment. Not your best work, but it will have to do...')\n",
        "    return('aloneArc')\n",
        "  elif op1 == 'c':\n",
        "    print('You download the latest version of SCHOOLAI on you phone.')\n",
        "    print('The AI completes the asignment in no time! Do you share your thanks with the robot? Yes/No')\n",
        "    op2 = str.lower(input('You Choose '))\n",
        "    if op2 == 'yes':\n",
        "      print('You happly thank the AI for its hard work!')\n",
        "      return('AIFoeArc')\n",
        "    elif op2 == 'no':\n",
        "      print('Naah... Who has time to thank a soulless robot!')\n",
        "      return('AIFriendArc')\n"
      ],
      "metadata": {
        "id": "DToswc3clKpf"
      },
      "execution_count": 3,
      "outputs": []
    },
    {
      "cell_type": "code",
      "source": [
        "def apocIntro():\n",
        "  print('It May 8th 2030, at 2:00 PM. School is almost over for the day and year.')\n",
        "  print('With the exponential growth of AI in the last few years, a threat of a full apocolyps has been looming over the world while every day aspects of life are no automated.')\n",
        "  print('For example, cars fully drive themselves now! There are also preporatory classes one can take to prepare one for an appolyps, along with preporation guides.')\n",
        "  print(' ')\n",
        "  time.sleep(0.5)\n",
        "  print('It is now 2:30, and you are pretending to do you homework in studyhall, when the power shuts of, and a alarm blares!')\n",
        "  print('The Appocolyps has begun...')"
      ],
      "metadata": {
        "id": "bWYRBLRlGNOR"
      },
      "execution_count": 4,
      "outputs": []
    },
    {
      "cell_type": "code",
      "source": [
        "def chapter1(arc):\n",
        "  apocIntro()\n",
        "  time.sleep(25)\n",
        "  clear_output()\n",
        ""
      ],
      "metadata": {
        "id": "PmO5lrPdFrOO"
      },
      "execution_count": 5,
      "outputs": []
    },
    {
      "cell_type": "code",
      "source": [
        "def main():\n",
        "  title = Figlet(font='slant')   #'slant', 'big', 'graffiti', 'doom'\n",
        "  print(title.renderText('AI TAKE DOWN'))\n",
        "  time.sleep(2)\n",
        "  clear_output()\n",
        "  arc = intro()\n",
        "  time.sleep(8)\n",
        "  clear_output()\n",
        "  chap1 = Figlet(font='big')\n",
        "  print(chap1.renderText('Chapter 1'))\n",
        "  time.sleep(2)\n",
        "  clear_output()\n",
        "  chapter1(arc)\n",
        "main()"
      ],
      "metadata": {
        "id": "vHTK3-ffK00i"
      },
      "execution_count": 17,
      "outputs": []
    }
  ]
}