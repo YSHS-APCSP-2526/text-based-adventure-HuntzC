{
  "nbformat": 4,
  "nbformat_minor": 0,
  "metadata": {
    "colab": {
      "provenance": [],
      "include_colab_link": true
    },
    "kernelspec": {
      "name": "python3",
      "display_name": "Python 3"
    },
    "language_info": {
      "name": "python"
    }
  },
  "cells": [
    {
      "cell_type": "markdown",
      "metadata": {
        "id": "view-in-github",
        "colab_type": "text"
      },
      "source": [
        "<a href=\"https://colab.research.google.com/github/YSHS-APCSP-2526/text-based-adventure-HuntzC/blob/main/Text_Based_Adventure.ipynb\" target=\"_parent\"><img src=\"https://colab.research.google.com/assets/colab-badge.svg\" alt=\"Open In Colab\"/></a>"
      ]
    },
    {
      "cell_type": "markdown",
      "source": [
        "#Requirements for text based adventure\n",
        "1. You must have at least 2 different \"paths\" that are at least 4 decisions in length\n",
        "2. Include an element of randomness (from the random library)\n",
        "3. Include a list that is core to the text based adventure\n",
        "4. Include a function that is called within your program that includes a while loop, and a parameter that influences a conditional statement in your function.\n",
        "5. Commented Code.\n",
        "6. A [digital flowchart](https://docs.google.com/document/d/1p2k3wL6gzjYWBuWxwEQptmbbOZZNsQrthlC12SNtYgY/edit?usp=sharing) that follows accepted symbols for representing code. You can use google slides or [draw.io](https://www.drawio.com/) for the flowchart."
      ],
      "metadata": {
        "id": "zpSmche7G_jy"
      }
    },
    {
      "cell_type": "code",
      "source": [
        "import sys\n",
        "import random\n",
        "!pip install pyfiglet\n",
        "from pyfiglet import Figlet\n",
        "import time\n",
        "from IPython.display import clear_output"
      ],
      "metadata": {
        "colab": {
          "base_uri": "https://localhost:8080/"
        },
        "id": "FAXWK78h6mSs",
        "outputId": "092c754d-ea80-4913-d16f-4cdaf8834488"
      },
      "execution_count": 1,
      "outputs": [
        {
          "output_type": "stream",
          "name": "stdout",
          "text": [
            "Collecting pyfiglet\n",
            "  Downloading pyfiglet-1.0.4-py3-none-any.whl.metadata (7.4 kB)\n",
            "Downloading pyfiglet-1.0.4-py3-none-any.whl (1.8 MB)\n",
            "\u001b[2K   \u001b[90m━━━━━━━━━━━━━━━━━━━━━━━━━━━━━━━━━━━━━━━━\u001b[0m \u001b[32m1.8/1.8 MB\u001b[0m \u001b[31m13.0 MB/s\u001b[0m eta \u001b[36m0:00:00\u001b[0m\n",
            "\u001b[?25hInstalling collected packages: pyfiglet\n",
            "Successfully installed pyfiglet-1.0.4\n"
          ]
        }
      ]
    },
    {
      "cell_type": "code",
      "source": [
        "def respVal2(response,a,b):\n",
        "  while response.lower() != 'a' or response.lower() != 'b':\n",
        "    print('Not Valid Response')\n",
        "    response=input()\n",
        "  else:\n",
        "    return response.lower()\n",
        "\n",
        "def respVal3(response,a,b,c):\n",
        "  while response.lower() != a or response.lower() != b or response.lower() != c:\n",
        "    return response.lower()"
      ],
      "metadata": {
        "id": "IXLvpP5iEHOM"
      },
      "execution_count": 2,
      "outputs": []
    },
    {
      "cell_type": "code",
      "source": [
        "weapons = ['Pencil']\n",
        "food = []\n",
        "\n",
        "\n",
        "def inventory(health):\n",
        "  print('Health:')\n",
        "  print(health,'/100')\n",
        "  print('Weapons:')\n",
        "  for item in weapons:\n",
        "    print('-', item)\n",
        "  print('Food/Healables:')\n",
        "  for item in food:\n",
        "    print('-', item)\n",
        "  print(' ')\n",
        "  print('Type \"Back\" to continue and type \"Use\" to use a food/healable')\n",
        "  op1 = str.lower(input())\n",
        "  if op1=='back':\n",
        "    print('ok')\n",
        "    print(' ')\n",
        "    return health\n",
        "  elif op1=='use':\n",
        "    op2 = str.lower(input(\"You would like to use (Capitalization Maters!)... \"))\n",
        "    for op2 in food:\n",
        "      if op2 in food and health<100:\n",
        "        health += 10\n",
        "        food.remove(op2)\n",
        "        print('  ')\n",
        "      else:\n",
        "        food.remove(op2)\n",
        "        print('  ')"
      ],
      "metadata": {
        "id": "o4KAmqbVbK2X"
      },
      "execution_count": 3,
      "outputs": []
    },
    {
      "cell_type": "code",
      "source": [
        "def intro():\n",
        "  print('It is 1:00 AM and you have a major English essay due tommorow.')\n",
        "  print('You are super stressed and tired, and are about out of options, so what do you do?')\n",
        "  print(\"A: Go to bed and don't do the asignment\")\n",
        "  print('B: Rush the asignment just to get it done')\n",
        "  print('C: Use ChatGPT to do the whole asignment')\n",
        "  op1 = str.lower(input('You Choose '))\n",
        "  print(' ')\n",
        "  if op1 == 'a':\n",
        "    print('Saddly, you end up getting a 0 on the assignment. Your parents are FURIOUS when they find out!!')\n",
        "    print('Unfortunatly, they are SO disapointed they kick you out of the house and you die alone on the streets a faliar.')\n",
        "    print('YOU LOOSE')\n",
        "    sys.exit(\"YOU LOOSE\")\n",
        "    return('looses')\n",
        "  elif op1 == 'b':\n",
        "    print('You huredly rush the asignment, just getting it done beore school starts!')\n",
        "    print('You end up getting a C on the assignment. Not your best work, but it will have to do...')\n",
        "    return('aloneArc')\n",
        "  elif op1 == 'c':\n",
        "    print('You download the latest version of SCHOOLAI on you phone.')\n",
        "    print('The AI completes the asignment in no time! Do you share your thanks with the robot? Yes/No')\n",
        "    op2 = str.lower(input('You Choose '))\n",
        "    if op2 == 'yes':\n",
        "      print('You happly thank the AI for its hard work!')\n",
        "      return('AIFoeArc')\n",
        "    elif op2 == 'no':\n",
        "      print('Naah... Who has time to thank a soulless robot!')\n",
        "      return('AIFriendArc')\n"
      ],
      "metadata": {
        "id": "DToswc3clKpf"
      },
      "execution_count": 4,
      "outputs": []
    },
    {
      "cell_type": "code",
      "source": [
        "def apocIntro():\n",
        "  print('It May 8th 2030, at 2:00 PM. School is almost over for the day and year.')\n",
        "  print('With the exponential growth of AI in the last few years, a threat of a full apocolyps has been looming over the world while every day aspects of life are no automated.')\n",
        "  print('For example, cars fully drive themselves now! There are also preporatory classes one can take to prepare one for an appolyps, along with preporation guides.')\n",
        "  print(' ')\n",
        "  time.sleep(0.5)\n",
        "  print('It is now 2:30, and you are pretending to do you homework in studyhall, when the power shuts of, and a alarm blares!')\n",
        "  print('The Appocolyps has begun...')"
      ],
      "metadata": {
        "id": "bWYRBLRlGNOR"
      },
      "execution_count": 5,
      "outputs": []
    },
    {
      "cell_type": "code",
      "source": [
        "def cabinOrHouse(health):\n",
        "  print('Luckly, your family prepared for this sort of situation. You have a designated safe hosuse that you and your parents are to report to incase of an uprising.')\n",
        "  print('However, your belongings are all stored away in your home! So, do you go to your home first, or go to the safe house, following the plan?')\n",
        "  print('P.S., you can type \"Inventory\" any time to view you items')\n",
        "  print('A: Go to safe house')\n",
        "  print(\"B: Go home\")\n",
        "  op1 = str.lower(input('You Chose '))\n",
        "  print(' ')\n",
        "  while op1 == 'inventory':\n",
        "    health=inventory(health)\n",
        "    print('Luckly, your family prepared for this sort of situation. You have a designated safe hosuse that you and your parents are to report to incase of an uprising.')\n",
        "    print('However, your belongings are all stored away in your home! So, do you go to your home first, or go to the safe house, following the plan?')\n",
        "    print('P.S., you can type \"Inventory\" any time to view you items and stats')\n",
        "    print('A: Go to safe house')\n",
        "    print(\"B: Go home\")\n",
        "    op1 = str.lower(input('You Chose '))\n",
        "  if op1 == 'a':\n",
        "    return('cabin')\n",
        "  if op1 == 'b':\n",
        "    return('house')\n",
        "  print(' ')"
      ],
      "metadata": {
        "id": "jS6MExLGZxGF"
      },
      "execution_count": 6,
      "outputs": []
    },
    {
      "cell_type": "code",
      "source": [
        "closetItems = []\n",
        "pantryItems = []\n",
        "drawerItems = []\n",
        "\n",
        "def houseIntro():\n",
        "  print(\"You qiuckly run to your home. Thankfuly, you only live a few blocks away and the robot army hasn't had enough time to get there yet\")\n",
        "  print(\"Once at your home, you get your key and walk in. Your house is medium sized, and up to date with the latest AI tech...\")\n",
        "  print(' ')\n",
        "  print('You know should look for you items')\n",
        "  print('A: Search closet')\n",
        "  print('B: Search Pantry')\n",
        "  print('C: Search Drawer')\n",
        "  print('D: Leave to safe house')"
      ],
      "metadata": {
        "id": "BnvIml4jvcbz"
      },
      "execution_count": null,
      "outputs": []
    },
    {
      "cell_type": "code",
      "source": [
        "def chapter1(arc,health):\n",
        "  apocIntro()\n",
        "  input('Type \"Ok\" to continue. ')\n",
        "  clear_output()\n",
        "  loc1 = cabinOrHouse(health)\n",
        "  clear_output()\n",
        "  if loc1 == 'house':\n",
        "    houseIntro()\n",
        "  elif loc1 == 'cabin':\n",
        "    cabinIntro()"
      ],
      "metadata": {
        "id": "PmO5lrPdFrOO"
      },
      "execution_count": 7,
      "outputs": []
    },
    {
      "cell_type": "code",
      "source": [
        "health = 100\n",
        "def main(health):\n",
        "  title = Figlet(font='slant')   #'slant', 'big', 'graffiti', 'doom'\n",
        "  print(title.renderText('AI TAKE DOWN'))\n",
        "  time.sleep(2)\n",
        "  clear_output()\n",
        "  arc = intro()\n",
        "  input('Type \"Ok\" to continue. ')\n",
        "  clear_output()\n",
        "  chap1 = Figlet(font='big')\n",
        "  print(chap1.renderText('Chapter 1'))\n",
        "  time.sleep(2)\n",
        "  clear_output()\n",
        "  arc2 = chapter1(arc,health)\n",
        "\n",
        "main(health)"
      ],
      "metadata": {
        "id": "vHTK3-ffK00i",
        "outputId": "3ac01847-b91c-40f9-e7f0-927fb9cbfb26",
        "colab": {
          "base_uri": "https://localhost:8080/"
        }
      },
      "execution_count": 8,
      "outputs": [
        {
          "output_type": "stream",
          "name": "stdout",
          "text": [
            "Luckly, your family prepared for this sort of situation. You have a designated safe hosuse that you and your parents are to report to incase of an uprising.\n",
            "However, your belongings are all stored away in your home! So, do you go to your home first, or go to the safe house, following the plan?\n",
            "P.S., you can type \"Inventory\" any time to view you items\n",
            "A: Go to safe house\n",
            "B: Go home\n",
            "You Chose inventory\n",
            " \n",
            "Health:\n",
            "100 /100\n",
            "Weapons:\n",
            "- Pencil\n",
            "Food/Healables:\n",
            " \n",
            "Type \"Back\" to continue and type \"Use\" to use a food/healable\n",
            "use\n",
            "You would like to use (Capitalization Maters!)... that one\n",
            "Luckly, your family prepared for this sort of situation. You have a designated safe hosuse that you and your parents are to report to incase of an uprising.\n",
            "However, your belongings are all stored away in your home! So, do you go to your home first, or go to the safe house, following the plan?\n",
            "P.S., you can type \"Inventory\" any time to view you items and stats\n",
            "A: Go to safe house\n",
            "B: Go home\n",
            "You Chose inventory\n",
            "Health:\n",
            "None /100\n",
            "Weapons:\n",
            "- Pencil\n",
            "Food/Healables:\n",
            " \n",
            "Type \"Back\" to continue and type \"Use\" to use a food/healable\n",
            "back\n",
            "ok\n",
            " \n",
            "Luckly, your family prepared for this sort of situation. You have a designated safe hosuse that you and your parents are to report to incase of an uprising.\n",
            "However, your belongings are all stored away in your home! So, do you go to your home first, or go to the safe house, following the plan?\n",
            "P.S., you can type \"Inventory\" any time to view you items and stats\n",
            "A: Go to safe house\n",
            "B: Go home\n",
            "You Chose A\n",
            "placholder\n"
          ]
        }
      ]
    }
  ]
}